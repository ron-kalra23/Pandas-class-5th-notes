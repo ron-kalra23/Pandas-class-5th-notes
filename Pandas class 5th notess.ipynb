{
 "cells": [
  {
   "cell_type": "code",
   "execution_count": 1,
   "id": "cacab8e4",
   "metadata": {},
   "outputs": [],
   "source": [
    "import sqlite3 \n",
    "#connecting with the database if there is no database it will create one \n",
    "db = sqlite3.connect('my_testbase.db')\n",
    "#declare cursor \n",
    "cursor = db.cursor()"
   ]
  },
  {
   "cell_type": "code",
   "execution_count": 3,
   "id": "4cb7758c",
   "metadata": {},
   "outputs": [],
   "source": [
    "import pandas as pd"
   ]
  },
  {
   "cell_type": "code",
   "execution_count": 4,
   "id": "c4208035",
   "metadata": {},
   "outputs": [],
   "source": [
    "my_testbase = pd.read_csv('https://raw.githubusercontent.com/training-ml/Files/main/Students_details.csv')\n",
    "my_testbase.to_csv('Students_details.csv' , index = False) #upload a file from github link to our database."
   ]
  },
  {
   "cell_type": "code",
   "execution_count": null,
   "id": "9275d3e0",
   "metadata": {},
   "outputs": [],
   "source": [
    "#if e want to read directly from github and use the file in sql \n",
    "#1.read the file using pandas \n",
    "#2.export to csv file with index is set to be false \n",
    "#3.used the saved file in the 2nd step . example below"
   ]
  },
  {
   "cell_type": "code",
   "execution_count": 7,
   "id": "bbd14fe7",
   "metadata": {},
   "outputs": [
    {
     "name": "stdout",
     "output_type": "stream",
     "text": [
      "             0                    1                   2       3\n",
      "0   9872341234   student1@gmail.com        Data science  420000\n",
      "1    982345556   student2@gmail.com  fashion designing    89000\n",
      "2   9872341238   student1@gmail.com        Data science  420000\n",
      "3    982325556   student2@gmail.com  fashion designing    89000\n",
      "4   9988776604   student4@gmail.com   Digital Marketing   38000\n",
      "5   9988776605   student5@gmail.com        Data Science  133000\n",
      "6   9988776606   student6@gmail.com        Data Science   34000\n",
      "7   9988776607   student7@gmail.com        Data Science   33000\n",
      "8   9988776608   student8@gmail.com        Data Science  129000\n",
      "9   9988776609   student9@gmail.com        Data Science   40000\n",
      "10  9988776610  student10@gmail.com      Data Analytics   32500\n",
      "11  9988776611  student11@gmail.com        Data Science   41500\n",
      "12  9988776612  student12@gmail.com   Digital Marketing   31000\n",
      "13  9988776613  student13@gmail.com   Digital Marketing   23000\n",
      "14  9988776614  student14@gmail.com        Data Science   24000\n",
      "15  9988776615  student15@gmail.com        Data Science   23000\n",
      "16  9988776616  student16@gmail.com        Data Science  122500\n",
      "17  9988776617  student17@gmail.com        Data Science   29000\n",
      "18  9988776618  student18@gmail.com        Data Science  140000\n",
      "19  9988776619  student19@gmail.com      Data Analytics   32500\n",
      "20  9988776620  student20@gmail.com         Inv Banking   41500\n",
      "21  9988776621  student21@gmail.com        Data Science  131000\n",
      "22  9988776622  student22@gmail.com        Data Science   23000\n",
      "23  9988776623  student23@gmail.com        Data Science   24000\n"
     ]
    }
   ],
   "source": [
    "cursor.execute(\"select * from my_testbase\")\n",
    "df = pd.DataFrame(cursor.fetchall())\n",
    "print(df)"
   ]
  },
  {
   "cell_type": "code",
   "execution_count": 8,
   "id": "0faebae5",
   "metadata": {},
   "outputs": [],
   "source": [
    "#watch this class again "
   ]
  },
  {
   "cell_type": "markdown",
   "id": "d77c6dd5",
   "metadata": {},
   "source": [
    "column name is not coming here we have to fetch column name here"
   ]
  },
  {
   "cell_type": "code",
   "execution_count": 9,
   "id": "436d7003",
   "metadata": {},
   "outputs": [
    {
     "data": {
      "text/plain": [
       "(('phone_no', None, None, None, None, None, None),\n",
       " ('email_id', None, None, None, None, None, None),\n",
       " ('course_name', None, None, None, None, None, None),\n",
       " ('fee_paid', None, None, None, None, None, None))"
      ]
     },
     "execution_count": 9,
     "metadata": {},
     "output_type": "execute_result"
    }
   ],
   "source": [
    "#this code helps us to fetch column names\n",
    "cursor.description"
   ]
  },
  {
   "cell_type": "code",
   "execution_count": 10,
   "id": "b08ffd0c",
   "metadata": {},
   "outputs": [
    {
     "data": {
      "text/plain": [
       "[0, 1, 2, 3]"
      ]
     },
     "execution_count": 10,
     "metadata": {},
     "output_type": "execute_result"
    }
   ],
   "source": [
    "list(df.columns)"
   ]
  },
  {
   "cell_type": "code",
   "execution_count": 12,
   "id": "a876da39",
   "metadata": {},
   "outputs": [
    {
     "data": {
      "text/html": [
       "<div>\n",
       "<style scoped>\n",
       "    .dataframe tbody tr th:only-of-type {\n",
       "        vertical-align: middle;\n",
       "    }\n",
       "\n",
       "    .dataframe tbody tr th {\n",
       "        vertical-align: top;\n",
       "    }\n",
       "\n",
       "    .dataframe thead th {\n",
       "        text-align: right;\n",
       "    }\n",
       "</style>\n",
       "<table border=\"1\" class=\"dataframe\">\n",
       "  <thead>\n",
       "    <tr style=\"text-align: right;\">\n",
       "      <th></th>\n",
       "      <th>phone_no</th>\n",
       "      <th>email_id</th>\n",
       "      <th>course_name</th>\n",
       "      <th>fee_paid</th>\n",
       "    </tr>\n",
       "  </thead>\n",
       "  <tbody>\n",
       "    <tr>\n",
       "      <th>0</th>\n",
       "      <td>9872341234</td>\n",
       "      <td>student1@gmail.com</td>\n",
       "      <td>Data science</td>\n",
       "      <td>420000</td>\n",
       "    </tr>\n",
       "    <tr>\n",
       "      <th>1</th>\n",
       "      <td>982345556</td>\n",
       "      <td>student2@gmail.com</td>\n",
       "      <td>fashion designing</td>\n",
       "      <td>89000</td>\n",
       "    </tr>\n",
       "    <tr>\n",
       "      <th>2</th>\n",
       "      <td>9872341238</td>\n",
       "      <td>student1@gmail.com</td>\n",
       "      <td>Data science</td>\n",
       "      <td>420000</td>\n",
       "    </tr>\n",
       "    <tr>\n",
       "      <th>3</th>\n",
       "      <td>982325556</td>\n",
       "      <td>student2@gmail.com</td>\n",
       "      <td>fashion designing</td>\n",
       "      <td>89000</td>\n",
       "    </tr>\n",
       "    <tr>\n",
       "      <th>4</th>\n",
       "      <td>9988776604</td>\n",
       "      <td>student4@gmail.com</td>\n",
       "      <td>Digital Marketing</td>\n",
       "      <td>38000</td>\n",
       "    </tr>\n",
       "    <tr>\n",
       "      <th>5</th>\n",
       "      <td>9988776605</td>\n",
       "      <td>student5@gmail.com</td>\n",
       "      <td>Data Science</td>\n",
       "      <td>133000</td>\n",
       "    </tr>\n",
       "    <tr>\n",
       "      <th>6</th>\n",
       "      <td>9988776606</td>\n",
       "      <td>student6@gmail.com</td>\n",
       "      <td>Data Science</td>\n",
       "      <td>34000</td>\n",
       "    </tr>\n",
       "    <tr>\n",
       "      <th>7</th>\n",
       "      <td>9988776607</td>\n",
       "      <td>student7@gmail.com</td>\n",
       "      <td>Data Science</td>\n",
       "      <td>33000</td>\n",
       "    </tr>\n",
       "    <tr>\n",
       "      <th>8</th>\n",
       "      <td>9988776608</td>\n",
       "      <td>student8@gmail.com</td>\n",
       "      <td>Data Science</td>\n",
       "      <td>129000</td>\n",
       "    </tr>\n",
       "    <tr>\n",
       "      <th>9</th>\n",
       "      <td>9988776609</td>\n",
       "      <td>student9@gmail.com</td>\n",
       "      <td>Data Science</td>\n",
       "      <td>40000</td>\n",
       "    </tr>\n",
       "    <tr>\n",
       "      <th>10</th>\n",
       "      <td>9988776610</td>\n",
       "      <td>student10@gmail.com</td>\n",
       "      <td>Data Analytics</td>\n",
       "      <td>32500</td>\n",
       "    </tr>\n",
       "    <tr>\n",
       "      <th>11</th>\n",
       "      <td>9988776611</td>\n",
       "      <td>student11@gmail.com</td>\n",
       "      <td>Data Science</td>\n",
       "      <td>41500</td>\n",
       "    </tr>\n",
       "    <tr>\n",
       "      <th>12</th>\n",
       "      <td>9988776612</td>\n",
       "      <td>student12@gmail.com</td>\n",
       "      <td>Digital Marketing</td>\n",
       "      <td>31000</td>\n",
       "    </tr>\n",
       "    <tr>\n",
       "      <th>13</th>\n",
       "      <td>9988776613</td>\n",
       "      <td>student13@gmail.com</td>\n",
       "      <td>Digital Marketing</td>\n",
       "      <td>23000</td>\n",
       "    </tr>\n",
       "    <tr>\n",
       "      <th>14</th>\n",
       "      <td>9988776614</td>\n",
       "      <td>student14@gmail.com</td>\n",
       "      <td>Data Science</td>\n",
       "      <td>24000</td>\n",
       "    </tr>\n",
       "    <tr>\n",
       "      <th>15</th>\n",
       "      <td>9988776615</td>\n",
       "      <td>student15@gmail.com</td>\n",
       "      <td>Data Science</td>\n",
       "      <td>23000</td>\n",
       "    </tr>\n",
       "    <tr>\n",
       "      <th>16</th>\n",
       "      <td>9988776616</td>\n",
       "      <td>student16@gmail.com</td>\n",
       "      <td>Data Science</td>\n",
       "      <td>122500</td>\n",
       "    </tr>\n",
       "    <tr>\n",
       "      <th>17</th>\n",
       "      <td>9988776617</td>\n",
       "      <td>student17@gmail.com</td>\n",
       "      <td>Data Science</td>\n",
       "      <td>29000</td>\n",
       "    </tr>\n",
       "    <tr>\n",
       "      <th>18</th>\n",
       "      <td>9988776618</td>\n",
       "      <td>student18@gmail.com</td>\n",
       "      <td>Data Science</td>\n",
       "      <td>140000</td>\n",
       "    </tr>\n",
       "    <tr>\n",
       "      <th>19</th>\n",
       "      <td>9988776619</td>\n",
       "      <td>student19@gmail.com</td>\n",
       "      <td>Data Analytics</td>\n",
       "      <td>32500</td>\n",
       "    </tr>\n",
       "    <tr>\n",
       "      <th>20</th>\n",
       "      <td>9988776620</td>\n",
       "      <td>student20@gmail.com</td>\n",
       "      <td>Inv Banking</td>\n",
       "      <td>41500</td>\n",
       "    </tr>\n",
       "    <tr>\n",
       "      <th>21</th>\n",
       "      <td>9988776621</td>\n",
       "      <td>student21@gmail.com</td>\n",
       "      <td>Data Science</td>\n",
       "      <td>131000</td>\n",
       "    </tr>\n",
       "    <tr>\n",
       "      <th>22</th>\n",
       "      <td>9988776622</td>\n",
       "      <td>student22@gmail.com</td>\n",
       "      <td>Data Science</td>\n",
       "      <td>23000</td>\n",
       "    </tr>\n",
       "    <tr>\n",
       "      <th>23</th>\n",
       "      <td>9988776623</td>\n",
       "      <td>student23@gmail.com</td>\n",
       "      <td>Data Science</td>\n",
       "      <td>24000</td>\n",
       "    </tr>\n",
       "  </tbody>\n",
       "</table>\n",
       "</div>"
      ],
      "text/plain": [
       "      phone_no             email_id         course_name  fee_paid\n",
       "0   9872341234   student1@gmail.com        Data science    420000\n",
       "1    982345556   student2@gmail.com  fashion designing      89000\n",
       "2   9872341238   student1@gmail.com        Data science    420000\n",
       "3    982325556   student2@gmail.com  fashion designing      89000\n",
       "4   9988776604   student4@gmail.com   Digital Marketing     38000\n",
       "5   9988776605   student5@gmail.com        Data Science    133000\n",
       "6   9988776606   student6@gmail.com        Data Science     34000\n",
       "7   9988776607   student7@gmail.com        Data Science     33000\n",
       "8   9988776608   student8@gmail.com        Data Science    129000\n",
       "9   9988776609   student9@gmail.com        Data Science     40000\n",
       "10  9988776610  student10@gmail.com      Data Analytics     32500\n",
       "11  9988776611  student11@gmail.com        Data Science     41500\n",
       "12  9988776612  student12@gmail.com   Digital Marketing     31000\n",
       "13  9988776613  student13@gmail.com   Digital Marketing     23000\n",
       "14  9988776614  student14@gmail.com        Data Science     24000\n",
       "15  9988776615  student15@gmail.com        Data Science     23000\n",
       "16  9988776616  student16@gmail.com        Data Science    122500\n",
       "17  9988776617  student17@gmail.com        Data Science     29000\n",
       "18  9988776618  student18@gmail.com        Data Science    140000\n",
       "19  9988776619  student19@gmail.com      Data Analytics     32500\n",
       "20  9988776620  student20@gmail.com         Inv Banking     41500\n",
       "21  9988776621  student21@gmail.com        Data Science    131000\n",
       "22  9988776622  student22@gmail.com        Data Science     23000\n",
       "23  9988776623  student23@gmail.com        Data Science     24000"
      ]
     },
     "execution_count": 12,
     "metadata": {},
     "output_type": "execute_result"
    }
   ],
   "source": [
    "df.columns = [x[0] for x in cursor.description]\n",
    "df   #to upload column name "
   ]
  },
  {
   "cell_type": "code",
   "execution_count": 13,
   "id": "1f076e22",
   "metadata": {},
   "outputs": [],
   "source": [
    "#above code  represent that our column name is coming at 0 index.so we choose x[0] index for all the columns "
   ]
  },
  {
   "cell_type": "code",
   "execution_count": 14,
   "id": "e53ae6ee",
   "metadata": {},
   "outputs": [],
   "source": [
    "#df.column = [phone_no , email_id , course_name , fees choose from 0th index] "
   ]
  },
  {
   "cell_type": "code",
   "execution_count": null,
   "id": "a8080470",
   "metadata": {},
   "outputs": [],
   "source": []
  }
 ],
 "metadata": {
  "kernelspec": {
   "display_name": "Python 3 (ipykernel)",
   "language": "python",
   "name": "python3"
  },
  "language_info": {
   "codemirror_mode": {
    "name": "ipython",
    "version": 3
   },
   "file_extension": ".py",
   "mimetype": "text/x-python",
   "name": "python",
   "nbconvert_exporter": "python",
   "pygments_lexer": "ipython3",
   "version": "3.9.13"
  }
 },
 "nbformat": 4,
 "nbformat_minor": 5
}
